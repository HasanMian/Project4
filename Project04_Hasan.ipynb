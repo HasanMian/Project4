{
 "cells": [
  {
   "cell_type": "markdown",
   "id": "cddf5de3-a9f3-4471-bbaf-aca41a70ce89",
   "metadata": {},
   "source": [
    "#### INST326 OOP Project 04"
   ]
  },
  {
   "cell_type": "markdown",
   "id": "2bb7f115-9eba-4f29-918e-b016e6a7edc8",
   "metadata": {},
   "source": [
    "Hasan Aslam INST-326 0104<br>\n",
    "Individual Submission"
   ]
  },
  {
   "cell_type": "markdown",
   "id": "176a3739-9a16-4655-8cbb-a4cbfdf17226",
   "metadata": {},
   "source": [
    "You may work as an individual on **ONE** of the following projects, **OR** if you want to work as a group, contact Dr. Dempwolf for a project assignment. That group assignment will be part of an ongoing research project analyzing innovation ecosystems. "
   ]
  },
  {
   "cell_type": "markdown",
   "id": "8ee05bdb-db2d-41c2-9f23-3af75d058612",
   "metadata": {},
   "source": [
    "### Individual Projects\n",
    "Choose **ONE** of the following projects and write to code solution in the code cell below your choice. Use comments in your code to document your solution. If you need to write comments to the grader, add a markdown cell immediately above your code solution and add your comments there. Be sure to read and follow the Notebook Instructions at the bottom of this notebook. Your grade may depend on it! "
   ]
  },
  {
   "cell_type": "markdown",
   "id": "a1c98e85-2c64-4a03-8309-d91035cca6d2",
   "metadata": {},
   "source": [
    "#### 1. Library Management System\n",
    ">  Objective: Develop a system to manage a library’s collection of books, users, and loan records. This system should allow users to borrow and return books, as well as track which books are currently available.\n",
    ">\n",
    "> Requirements\n",
    ">>- Use classes to represent books, users, and the library.\n",
    ">>- Implement encapsulation to protect class attributes.\n",
    ">>- Use inheritance to handle different types of users (e.g., students and teachers).\n",
    ">>- Demonstrate polymorphism in borrowing rules (e.g., different borrowing limits for students vs. teachers).\n",
    ">>- Include methods for adding/removing books, registering users, and managing book loans.\n",
    ">>- Include execution code to demonstrate that your solution works"
   ]
  },
  {
   "cell_type": "code",
   "execution_count": null,
   "id": "8cf9723f-1ab6-4461-90b6-637a177e0f5a",
   "metadata": {},
   "outputs": [],
   "source": [
    "# Solution - enter your code solution below\n"
   ]
  },
  {
   "cell_type": "markdown",
   "id": "28b28d8a-dbb3-4f15-bbe0-e14504b84876",
   "metadata": {},
   "source": [
    "#### 2. Online Shopping Cart System\n",
    ">  Objective: Build a shopping cart system for an online store that manages products, shopping carts, and orders.\n",
    ">\n",
    "> Requirements\n",
    ">>- Use classes to represent products, shopping carts, and orders.\n",
    ">>- Implement encapsulation to handle product prices and cart contents securely.\n",
    ">>- Use inheritance to create different types of products (e.g., electronics, clothing).\n",
    ">>- Demonstrate polymorphism by calculating discounts based on product type.\n",
    ">>- Include execution code to demonstrate that your solution works"
   ]
  },
  {
   "cell_type": "code",
   "execution_count": null,
   "id": "e655cf9f-d2fc-4541-918f-8d85b1c04e94",
   "metadata": {},
   "outputs": [],
   "source": [
    "# Solution - enter your code solution below\n"
   ]
  },
  {
   "cell_type": "markdown",
   "id": "6708f6cf-aac7-430e-947d-6f9c8dd161f6",
   "metadata": {},
   "source": [
    "#### 3. Restaurant Reservation System\n",
    ">  Objective: Create a reservation system for a restaurant that manages tables, reservations, and customers.\n",
    ">\n",
    ">  Requirements\n",
    ">>- Use classes to represent tables, customers, and reservations.\n",
    ">>- Implement encapsulation for managing table availability and reservation details.\n",
    ">>- Use inheritance to differentiate between walk-in and advance reservations.\n",
    ">>- Demonstrate polymorphism by handling special cases (e.g., priority seating for VIP customers).\n",
    ">>- Include execution code to demonstrate that your solution works"
   ]
  },
  {
   "cell_type": "code",
   "execution_count": null,
   "id": "992556f0-32d7-464d-99db-6cd10b907784",
   "metadata": {},
   "outputs": [],
   "source": [
    "# Solution - enter your code solution below\n"
   ]
  },
  {
   "cell_type": "markdown",
   "id": "5a53bd40-c45e-49da-b4d7-10da7f13dc87",
   "metadata": {},
   "source": [
    "#### 4. Vehicle Rental System\n",
    ">  Objective: Develop a vehicle rental system that manages a fleet of vehicles, customer rentals, and payment processing.\n",
    ">\n",
    ">  Requirements\n",
    ">>- Use classes to represent different types of vehicles, customers, and rental transactions.\n",
    ">>- Implement encapsulation to handle sensitive information like customer payment details.\n",
    ">>- Use inheritance to differentiate between various vehicle types (e.g., cars, trucks, motorcycles).\n",
    ">>- Demonstrate polymorphism by applying different rental pricing strategies based on vehicle type.\n",
    ">>- Include execution code to demonstrate that your solution works"
   ]
  },
  {
   "cell_type": "code",
   "execution_count": null,
   "id": "1a091048-b769-4550-9433-d68de6e0d2f2",
   "metadata": {},
   "outputs": [],
   "source": [
    "# Solution - enter your code solution below\n",
    "#  Customers ID,  Name and payment info\n",
    "class Customer:\n",
    "    def __init__(self, customer_id, name):\n",
    "        self.customer_id = customer_id\n",
    "        self.name = name\n",
    "        self.payment_info = None\n",
    "\n",
    "    # Default payment info for the customer\n",
    "    def set_payment_info(self, payment_info):\n",
    "        self.payment_info = payment_info\n",
    "\n",
    "# vehicle id, brand, model, and rate\n",
    "class Vehicle:\n",
    "    def __init__(self, vehicle_id, brand, model, exotic_rate):\n",
    "        self.vehicle_id = vehicle_id\n",
    "        self.brand = brand\n",
    "        self.model = model\n",
    "        self.exotic_rate = exotic_rate\n",
    "\n",
    "    def daily_cost(self, days):\n",
    "        return self.exotic_rate * days\n",
    "\n",
    "class Car(Vehicle):\n",
    "    def __init__(self, vehicle_id, brand, model, exotic_rate):\n",
    "        super().__init__(vehicle_id, brand, model, exotic_rate)\n",
    "\n",
    "    def daily_cost(self, days):\n",
    "        return self.exotic_rate * days * 1.1\n",
    "\n",
    "class Truck(Vehicle):\n",
    "    def __init__(self, vehicle_id, brand, model, exotic_rate, capacity):\n",
    "        super().__init__(vehicle_id, brand, model, exotic_rate)\n",
    "        self.capacity = capacity\n",
    "\n",
    "    def daily_cost(self, days):\n",
    "        return self.exotic_rate * days * 1.5\n",
    "\n",
    "#  all info for the rental transaction \n",
    "class RentalTransaction:\n",
    "    def __init__(self, transaction_id, customer_ID, vehicle, days):\n",
    "        self.transaction_id = transaction_id\n",
    "        self.customer_ID = customer\n",
    "        self.vehicle_ID = vehicle\n",
    "        self.total_trip = days\n",
    "        self.total_cost = vehicle.daily_cost(days)\n",
    "\n",
    "    def display_transaction(self):\n",
    "        print(\"Welcome to Hasan's Exotics\")\n",
    "        print(\"Transaction Details:\")\n",
    "        print(\"Your Transaction is ID:\", self.transaction_id)\n",
    "        print(\"Customer Names:\", self.customer_ID.name)\n",
    "        print(\"Vehicle:\", self.vehicle_ID.brand, self.vehicle_ID.model)\n",
    "        print(\"Total Days Rent:\", self.total_trip)\n",
    "        print(\"Total Costs of your exotic:\", f\"${self.total_cost:.2f}\")\n",
    "\n",
    "# Example Usage\n",
    "car = Car(101, \"Porsche\", \"911\", 850)\n",
    "truck = Truck(102, \"Lamborghini\", \"Urus\", 1080, 500)\n",
    "\n",
    "customer = Customer(101, \"Asad Gandhu\")\n",
    "\n",
    "\n",
    "transaction_1st = RentalTransaction(101, customer, car, 3)\n",
    "transaction_2nd = RentalTransaction(102, customer, truck, 2)\n",
    "\n",
    "# Outputs the info from the transactions\n",
    "transaction_1st.display_transaction() \n",
    "transaction_2nd.display_transaction()"
   ]
  },
  {
   "cell_type": "markdown",
   "id": "f0c73f2e-9616-459e-ac0d-c82da9b6ac82",
   "metadata": {},
   "source": [
    "#### 5. Online Learning Platform\n",
    ">  Objective: Create an online learning platform that manages courses, students, and instructors.\n",
    ">  \n",
    ">  Requirements\n",
    ">>- Use classes to represent courses, students, and instructors.\n",
    ">>- Implement encapsulation to manage sensitive information like student grades.\n",
    ">>- Use inheritance to handle different types of courses (e.g., free, paid, and premium).\n",
    ">>- Demonstrate polymorphism in applying different grading schemes for assignments.\n",
    ">>- Include execution code to demonstrate that your solution works"
   ]
  },
  {
   "cell_type": "code",
   "execution_count": null,
   "id": "1904cb6f-07d7-4630-bc13-59387bae91e8",
   "metadata": {},
   "outputs": [],
   "source": [
    "# Solution - enter your code solution below\n"
   ]
  },
  {
   "cell_type": "markdown",
   "id": "aee162f1-c1b7-45ac-814d-3e1d4d843ae9",
   "metadata": {},
   "source": [
    "#### 6. E-Commerce Order Processing System\n",
    ">  Objective: Build an order processing system for an online store that manages products, customers, and orders.\n",
    ">  \n",
    ">  Requirements\n",
    ">>- Use classes to represent products, customers, and orders.\n",
    ">>- Implement encapsulation for handling payment details securely.\n",
    ">>- Use inheritance for different types of products (e.g., physical goods, digital downloads).\n",
    ">>- Demonstrate polymorphism by applying different shipping costs based on product type.\n",
    ">>- Include execution code to demonstrate that your solution works"
   ]
  },
  {
   "cell_type": "code",
   "execution_count": null,
   "id": "df4f6272-0b52-4fa7-b520-a6fdf37b8f65",
   "metadata": {},
   "outputs": [],
   "source": [
    "# Solution - enter your code solution below\n"
   ]
  },
  {
   "cell_type": "markdown",
   "id": "ec8ddd19-87cd-475d-a07f-7dc8983dc636",
   "metadata": {},
   "source": [
    "### Notebook Instructions\n",
    "> Before turning in your notebook:\n",
    "> 1. Make sure you have renamed the notebook file as instructed\n",
    "> 2. Make sure you have included your signature block and that it is correct according to the instructions\n",
    "> 3. comment your code as necessary\n",
    "> 4. run all code cells and double check that they run correctly. Include you execution code in your submission. If you can't get your code to run correctly and you want partial credit, add a note for the grader in a new markdown cell directly above your code solution.<br><br>\n",
    "Turn in your notebook by uploading it to ELMS<br>\n",
    "IF the exercises involve saved data files, put your notebook and the data file(s) in a zip folder and upload the zip folder to ELMS"
   ]
  }
 ],
 "metadata": {
  "kernelspec": {
   "display_name": "Python 3 (ipykernel)",
   "language": "python",
   "name": "python3"
  },
  "language_info": {
   "codemirror_mode": {
    "name": "ipython",
    "version": 3
   },
   "file_extension": ".py",
   "mimetype": "text/x-python",
   "name": "python",
   "nbconvert_exporter": "python",
   "pygments_lexer": "ipython3",
   "version": "3.12.4"
  }
 },
 "nbformat": 4,
 "nbformat_minor": 5
}
